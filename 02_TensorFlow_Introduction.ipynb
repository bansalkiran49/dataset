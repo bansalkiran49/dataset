{
  "nbformat": 4,
  "nbformat_minor": 0,
  "metadata": {
    "colab": {
      "provenance": [],
      "include_colab_link": true
    },
    "kernelspec": {
      "display_name": "Python 3",
      "language": "python",
      "name": "python3"
    },
    "language_info": {
      "codemirror_mode": {
        "name": "ipython",
        "version": 3
      },
      "file_extension": ".py",
      "mimetype": "text/x-python",
      "name": "python",
      "nbconvert_exporter": "python",
      "pygments_lexer": "ipython3",
      "version": "3.7.3"
    }
  },
  "cells": [
    {
      "cell_type": "markdown",
      "metadata": {
        "id": "view-in-github",
        "colab_type": "text"
      },
      "source": [
        "<a href=\"https://colab.research.google.com/github/bansalkiran49/Exploratory-Data-Analysis-on-Movies-Dataset/blob/main/02_TensorFlow_Introduction.ipynb\" target=\"_parent\"><img src=\"https://colab.research.google.com/assets/colab-badge.svg\" alt=\"Open In Colab\"/></a>"
      ]
    },
    {
      "cell_type": "markdown",
      "metadata": {
        "id": "rkMZMNYtXf1Z"
      },
      "source": [
        "<center><img src=\"https://github.com/insaid2018/Term-1/blob/master/Images/INSAID_Full%20Logo.png?raw=true\" width=\"240\" height=\"110\" /></center>"
      ]
    },
    {
      "cell_type": "markdown",
      "metadata": {
        "id": "cu25mCqViNlC"
      },
      "source": [
        "# <center>**TensorFlow Introduction**</center>\n",
        "\n",
        "<center><img src=\"https://upload.wikimedia.org/wikipedia/commons/1/11/TensorFlowLogo.svg\" width=\"300\" height=\"200\" /></center>"
      ]
    },
    {
      "cell_type": "markdown",
      "metadata": {
        "id": "9QKk6hBzXf1d"
      },
      "source": [
        "----\n",
        "### **Table of Content**\n",
        "----\n",
        "\n",
        "1. [**TensorFlow - Brief Introduction**](#section1)<br>\n",
        "    - 1.1 [**Why TensorFlow?**](#section101)<br>\n",
        "\n",
        "    - 1.2 [**How TensorFlow Works**](#section102)<br>\n",
        "\n",
        "    - 1.3 [**Few Major Applications of TensorFlow**](#section103)<br>\n",
        "\n",
        "    - 1.4 [**TensorFlow vs the Competition**](#section104)<br>\n",
        "\n"
      ]
    },
    {
      "cell_type": "markdown",
      "metadata": {
        "id": "bsqwghGyGvtX"
      },
      "source": [
        "**Note**: This notebook is intended to be run on Colab. Parts of it may not work properly if opened directly via jupyter notebook."
      ]
    },
    {
      "cell_type": "markdown",
      "metadata": {
        "collapsed": true,
        "id": "mbhTTyunXf1h"
      },
      "source": [
        "<a id=section1></a>"
      ]
    },
    {
      "cell_type": "markdown",
      "metadata": {
        "id": "Vp5nsawuXf1l"
      },
      "source": [
        "<a name = section1></a>\n",
        "\n",
        "\n",
        "---\n",
        "## **1. TensorFlow - Brief Introduction**\n",
        "---"
      ]
    },
    {
      "cell_type": "markdown",
      "metadata": {
        "id": "iGrC8j4UXf1n"
      },
      "source": [
        "- Created by the **Google Brain** team, **TensorFlow** is an **open source** library for **numerical computation** and **large-scale machine learning**.\n",
        "\n",
        "- TensorFlow **bundles** together a slew of machine learning and deep learning (aka neural networking) models and algorithms.\n",
        "\n",
        "- It uses **Python** to provide a **convenient front-end API** for building applications with the framework, while executing those applications in high-performance C++ at the backend (the part you don't have to worry about)."
      ]
    },
    {
      "cell_type": "markdown",
      "metadata": {
        "id": "0Y2fSOETXf1u"
      },
      "source": [
        "<a id=section101></a>"
      ]
    },
    {
      "cell_type": "markdown",
      "metadata": {
        "id": "KetP-qpDXf1z"
      },
      "source": [
        "<a name = section101></a>\n",
        "\n",
        "### **1.1 Why TensorFlow?**"
      ]
    },
    {
      "cell_type": "markdown",
      "metadata": {
        "id": "0QnxdCcrXf16"
      },
      "source": [
        "- TensorFlow is Google’s **gift** to the developers involved in Machine Learning.\n",
        "\n",
        "  - It makes the power of **Deep Learning accessible** to the people in pursuit.\n",
        "\n",
        "- The single biggest benefit TensorFlow provides for machine learning development is **abstraction**.\n",
        "\n",
        "- Instead of dealing with the nitty-gritty details of implementing algorithms, or figuring out proper ways to hitch the output of one function to the input of another, the developer can focus on the overall logic of the application.\n",
        "\n",
        "  - TensorFlow takes care of the details behind the scenes.\n",
        "\n",
        "<br> \n",
        "- The image below gives a good sense of TensorFlow pros and cons:\n",
        "\n",
        "<br>  \n",
        "<center><img src = \"https://raw.githubusercontent.com/insaid2018/DeepLearning/master/image/deep-learning-tensor-flow-an-intro-21-638.jpg\" width=\"650\" height=\"370\"></center>\n",
        "\n",
        "                                                                                                     "
      ]
    },
    {
      "cell_type": "markdown",
      "metadata": {
        "id": "I1yYIWWaXf18"
      },
      "source": [
        "<a id=section102></a>"
      ]
    },
    {
      "cell_type": "markdown",
      "metadata": {
        "id": "hsV6mtRUXf1_"
      },
      "source": [
        "<a name = section102></a>\n",
        "\n",
        "### **1.2 How TensorFlow Works**"
      ]
    },
    {
      "cell_type": "markdown",
      "metadata": {
        "id": "_gfAoyNNXf2C"
      },
      "source": [
        "- TensorFlow provides **computational efficiency** for the programmer by way of the **Python** language.\n",
        "\n",
        "  - Python is **easy** to **learn** and **work** with, and provides convenient ways to express how high-level abstractions can be coupled together.\n",
        "\n",
        "- The actual **math** operations, however, are **not** performed in **Python**.\n",
        "\n",
        "  - The libraries of transformations that are available through TensorFlow are written as **high-performance C++** binaries.\n",
        "  \n",
        "  - Python just directs traffic between the pieces, and provides high-level programming abstractions to hook them together.\n",
        "\n",
        "- TensorFlow applications can be **run** on almost **any target** that’s convenient: a local machine, a cluster in the cloud, iOS and Android devices, CPUs or GPUs.\n",
        "\n",
        "  - If you use Google’s own cloud, you can run TensorFlow on Google’s custom **TensorFlow Processing Unit** (TPU) silicon for further acceleration. \n",
        "\n",
        "- The resulting **models** created by TensorFlow can be **deployed** on most **any device** where they will be used to serve predictions."
      ]
    },
    {
      "cell_type": "markdown",
      "metadata": {
        "id": "4fI0KAZ4Xf2I"
      },
      "source": [
        "<a id=section103></a>"
      ]
    },
    {
      "cell_type": "markdown",
      "metadata": {
        "id": "ZQinN-E-Xf2K"
      },
      "source": [
        "<a name = section103></a>\n",
        "\n",
        "### **1.3 Few Major Applications of TensorFlow**"
      ]
    },
    {
      "cell_type": "markdown",
      "metadata": {
        "id": "kyFjHIqwXf2M"
      },
      "source": [
        "- When it comes to Deep Learning, TensorFlow has gained much more momentum than its competitors – Caffe, Theano, Torch, and other well-known frameworks.\n",
        "\n",
        "- TensorFlow is extensively used in **Voice Recognition**, **Google Translate**, **Image Recognition**, and **Video Detection**.\n",
        "\n",
        "<br> \n",
        "<center><img src=\"https://raw.githubusercontent.com/insaid2018/DeepLearning/master/image/banayihai.png\" width=\"800\" height=\"200\"></center>\n",
        "\n",
        "<br> \n",
        "- Some of the major **applications** of TensorFlow are:\n",
        "\n",
        "  - Tensorflow has been successfully implemented in **DeepDream** – the surreal image generator software – uses TensorFlow.\n",
        "\n",
        "  - Google’s **RankBrain**, its search engine algorithm, backed by TensorFlow, handles a substantial number of queries every minute and has effectively replaced the traditional static algorithm-based search.\n",
        "\n",
        "  - If you’ve used the **Allo** application, you must’ve seen a feature similar to Google’s Inbox – you can **reply** to the last **message** from a few customized options thanks to TensorFlow.\n",
        "  \n",
        "    - Another feature **analyses** the **images** sent to you in order to **suggest** a relevant **response**.\n",
        "\n",
        "<br> \n",
        "<center><img src=\"https://raw.githubusercontent.com/insaid2018/DeepLearning/master/image/2.jpg\" width=\"600\" height=\"370\"></center>\n",
        "                                                                                               \n",
        "                                                                                                 "
      ]
    },
    {
      "cell_type": "markdown",
      "metadata": {
        "id": "YUAibpLwXf2P"
      },
      "source": [
        "<a id=section104></a>"
      ]
    },
    {
      "cell_type": "markdown",
      "metadata": {
        "id": "fQyM7lKzXf2S"
      },
      "source": [
        "<a name = section104></a>\n",
        "\n",
        "### **1.4 TensorFlow vs the Competition**"
      ]
    },
    {
      "cell_type": "markdown",
      "metadata": {
        "id": "80M-eL_sXf2V"
      },
      "source": [
        "- TensorFlow competes with a slew of other machine learning frameworks. PyTorch, CNTK, and MXNet are three major frameworks that address many of the same needs.\n",
        "\n",
        "<center><img src=\"https://raw.githubusercontent.com/insaid2018/DeepLearning/master/images/pytorch-logo.png\" width=\"180\" height=\"180\"/></center>\n",
        "\n",
        "  - **PyTorch**, in addition to being built with Python, and has many other similarities to TensorFlow: **hardware-accelerated components** under the hood, a highly **interactive development model** that allows for design-as-you-go work, and many useful components already included.\n",
        "\n",
        "<br> \n",
        "<center><img src=\"https://raw.githubusercontent.com/insaid2018/DeepLearning/master/images/Microsoft-CogTK.png\" width=\"200\" height=\"150\"/></center>\n",
        "\n",
        "  - **CNTK**, the **Microsoft Cognitive Toolkit**, like TensorFlow uses a **graph structure** to describe dataflow, but focuses most on creating deep learning neural networks.\n",
        "  \n",
        "    - CNTK handles many neural network jobs **faster**, and has a broader set of APIs (Python, C++, C#, Java).\n",
        "    \n",
        "    - But CNTK **isn’t** currently as **easy** to **learn** or **deploy** as TensorFlow.\n",
        "\n",
        "<br> \n",
        "<center><img src=\"https://raw.githubusercontent.com/insaid2018/DeepLearning/master/images/mxnet-logo.png\" width=\"200\" height=\"150\"/></center>\n",
        "\n",
        "  - **Apache MXNet**, adopted by **Amazon** as the premier deep learning framework on AWS, can **scale** almost linearly across multiple GPUs and multiple machines.\n",
        "  \n",
        "    - It also **supports** a **broad range of language APIs** — Python, C++, Scala, R, JavaScript, Julia, Perl, Go—although its **native APIs aren’t** as **pleasant** to work with as TensorFlow’s.\n",
        "\n",
        "<center><img src=\"https://raw.githubusercontent.com/insaid2018/DeepLearning/master/image/1_8HgSXEqVD9vqbzzOZsAdcA.png\" width=\"700\" height=\"400\"/></center>\n"
      ]
    }
  ]
}